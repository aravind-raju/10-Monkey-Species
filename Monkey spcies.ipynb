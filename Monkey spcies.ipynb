{
 "cells": [
  {
   "cell_type": "code",
   "execution_count": 1,
   "id": "upset-heath",
   "metadata": {},
   "outputs": [],
   "source": [
    "import os\n",
    "import torch\n",
    "from torch.nn import functional as F\n",
    "from torch.utils.data import DataLoader, random_split\n",
    "from torchvision import datasets, transforms\n",
    "import pytorch_lightning as pl\n",
    "from pytorch_lightning.metrics.functional import accuracy\n",
    "from PIL import Image\n",
    "import numpy as np"
   ]
  },
  {
   "cell_type": "code",
   "execution_count": 1,
   "id": "educated-company",
   "metadata": {},
   "outputs": [
    {
     "ename": "NameError",
     "evalue": "name 'datasets' is not defined",
     "output_type": "error",
     "traceback": [
      "\u001b[1;31m---------------------------------------------------------------------------\u001b[0m",
      "\u001b[1;31mNameError\u001b[0m                                 Traceback (most recent call last)",
      "\u001b[1;32m<ipython-input-1-5df15f5c3ac8>\u001b[0m in \u001b[0;36m<module>\u001b[1;34m()\u001b[0m\n\u001b[1;32m----> 1\u001b[1;33m dataset = datasets.ImageFolder('D:/competition/10 Monkey Species/data/training/',\n\u001b[0m\u001b[0;32m      2\u001b[0m                         transform=transforms.Compose([transforms.Resize((256, 256), interpolation=Image.NEAREST),\n\u001b[0;32m      3\u001b[0m                         \u001b[0mtransforms\u001b[0m\u001b[1;33m.\u001b[0m\u001b[0mGrayscale\u001b[0m\u001b[1;33m(\u001b[0m\u001b[0mnum_output_channels\u001b[0m\u001b[1;33m=\u001b[0m\u001b[1;36m1\u001b[0m\u001b[1;33m)\u001b[0m\u001b[1;33m,\u001b[0m\u001b[1;33m\u001b[0m\u001b[1;33m\u001b[0m\u001b[0m\n\u001b[0;32m      4\u001b[0m                         \u001b[0mtransforms\u001b[0m\u001b[1;33m.\u001b[0m\u001b[0mToTensor\u001b[0m\u001b[1;33m(\u001b[0m\u001b[1;33m)\u001b[0m\u001b[1;33m,\u001b[0m\u001b[1;33m\u001b[0m\u001b[1;33m\u001b[0m\u001b[0m\n\u001b[0;32m      5\u001b[0m                         transforms.Normalize(mean=[0.5], std=[0.5])]))\n",
      "\u001b[1;31mNameError\u001b[0m: name 'datasets' is not defined"
     ]
    }
   ],
   "source": [
    "dataset = datasets.ImageFolder('D:/competition/10 Monkey Species/data/training/',\n",
    "                        transform=transforms.Compose([transforms.Resize((256, 256), interpolation=Image.NEAREST),\n",
    "                        transforms.Grayscale(num_output_channels=1), \n",
    "                        transforms.ToTensor(),\n",
    "                        transforms.Normalize(mean=[0.5], std=[0.5])]))\n",
    "        \n",
    "lengths = [int(np.ceil(0.9*len(dataset))), int(np.floor(0.1*len(dataset)))]\n",
    "\n",
    "#Dividing into validation and training set\n",
    "train_set, val_set = random_split(dataset, lengths)"
   ]
  },
  {
   "cell_type": "code",
   "execution_count": 6,
   "id": "hungarian-detective",
   "metadata": {},
   "outputs": [
    {
     "data": {
      "text/plain": [
       "109"
      ]
     },
     "execution_count": 6,
     "metadata": {},
     "output_type": "execute_result"
    }
   ],
   "source": [
    "len(val_set)"
   ]
  },
  {
   "cell_type": "code",
   "execution_count": 2,
   "id": "increased-traffic",
   "metadata": {},
   "outputs": [],
   "source": [
    "class smallAndSmartModel(pl.LightningModule):\n",
    "    def __init__(self, num_classes=10):\n",
    "        super(smallAndSmartModel, self).__init__()\n",
    "        self.layer1 = torch.nn.Sequential(torch.nn.Conv2d(1, 28, kernel_size=5),\n",
    "        torch.nn.ReLU(),\n",
    "        torch.nn.MaxPool2d(kernel_size=2))\n",
    "        self.layer2 = torch.nn.Sequential(torch.nn.Conv2d(28, 10, kernel_size=3),\n",
    "        torch.nn.ReLU(),\n",
    "        torch.nn.MaxPool2d(kernel_size=2))\n",
    "        self.dropout1 = torch.nn.Dropout(0.25)\n",
    "        self.fc1 = torch.nn.Linear(38440, 18)\n",
    "        self.dropout2 = torch.nn.Dropout(0.08)\n",
    "        self.fc2 = torch.nn.Linear(18, num_classes)\n",
    "    \n",
    "    \n",
    "    def train_dataloader(self):\n",
    "        dataset = datasets.ImageFolder('D:/competition/10 Monkey Species/data/training/',\n",
    "                        transform=transforms.Compose([transforms.Resize((256, 256), interpolation=Image.NEAREST),\n",
    "                        transforms.Grayscale(num_output_channels=1), \n",
    "                        transforms.ToTensor(),\n",
    "                        transforms.Normalize(mean=[0.5], std=[0.5])]))\n",
    "        \n",
    "        lengths = [int(np.ceil(0.9*len(dataset))), int(np.floor(0.1*len(dataset)))]\n",
    "        \n",
    "        #Dividing into validation and training set\n",
    "        self.train_set, self.val_set = random_split(dataset, lengths)\n",
    "        \n",
    "        self.test_set = datasets.ImageFolder('D:/competition/10 Monkey Species/data/validation/',\n",
    "                        transform=transforms.Compose([transforms.Resize((256, 256), interpolation=Image.NEAREST),\n",
    "                        transforms.Grayscale(num_output_channels=1), \n",
    "                        transforms.ToTensor(),\n",
    "                        transforms.Normalize(mean=[0.5], std=[0.5])]))\n",
    "        return DataLoader(self.train_set, batch_size=64)\n",
    "        \n",
    "    def val_dataloader(self):\n",
    "        # OPTIONAL\n",
    "        return DataLoader(self.val_set, batch_size=64)\n",
    "\n",
    "    def test_dataloader(self):\n",
    "        # OPTIONAL\n",
    "        return DataLoader(self.test_set, batch_size=64)\n",
    "\n",
    "    def forward(self, x):\n",
    "        x = self.layer1(x)\n",
    "        x = self.layer2(x)\n",
    "        x = self.dropout1(x)\n",
    "        #view is the flatten step\n",
    "        x = torch.relu(self.fc1(x.view(x.size(0), -1)))\n",
    "        x = F.leaky_relu(self.dropout2(x))\n",
    "        return F.softmax(self.fc2(x))\n",
    "\n",
    "    def configure_optimizers(self):\n",
    "        # Essential fuction\n",
    "        #we are using Adam optimizer for our model\n",
    "        return torch.optim.Adam(self.parameters())\n",
    "    \n",
    "    def training_step(self, batch, batch_idx):\n",
    "        #extracting input and output from the batch\n",
    "        x, labels = batch\n",
    "        #doing a forward pass\n",
    "        pred = self.forward(x)\n",
    "        #calculating the loss\n",
    "        loss = F.nll_loss(pred, labels)\n",
    "        \n",
    "        acc = accuracy(pred, labels)\n",
    "        pbar = {\"train_acc\": acc}\n",
    "        #logs\n",
    "        logs={\"train_loss\": loss, \"train_acc\": acc}  \n",
    "        self.log('train_loss', loss)\n",
    "        output={\n",
    "              #REQUIRED: It ie required for us to return \"loss\"\n",
    "              \"loss\": loss,\n",
    "              #optional for logging purposes\n",
    "              \"log\": logs\n",
    "          }\n",
    "        return output\n",
    "    \n",
    "    def test_step(self, data_batch, batch_nb):\n",
    "        x, y = data_batch\n",
    "\n",
    "        # implement your own\n",
    "        out = self.forward(x)\n",
    "        loss = F.nll_loss(out, y)\n",
    "\n",
    "        # calculate acc\n",
    "        labels_hat = torch.argmax(out, dim=1)\n",
    "        test_acc = torch.sum(y == labels_hat).item() / (len(y) * 1.0)\n",
    "\n",
    "        # all optional...\n",
    "        # return whatever you need for the collation function test_end\n",
    "        output = OrderedDict({\n",
    "            'test_loss': loss_test,\n",
    "            'test_acc': torch.tensor(test_acc), # everything must be a tensor\n",
    "        })\n",
    "\n",
    "        # return an optional dict\n",
    "        return output"
   ]
  },
  {
   "cell_type": "code",
   "execution_count": 3,
   "id": "protecting-shade",
   "metadata": {},
   "outputs": [
    {
     "name": "stderr",
     "output_type": "stream",
     "text": [
      "GPU available: True, used: True\n",
      "TPU available: None, using: 0 TPU cores\n",
      "LOCAL_RANK: 0 - CUDA_VISIBLE_DEVICES: [0]\n",
      "C:\\Users\\arvin\\miniconda3\\envs\\gpu\\lib\\site-packages\\pytorch_lightning\\utilities\\distributed.py:50: UserWarning: you passed in a val_dataloader but have no validation_step. Skipping validation loop\n",
      "  warnings.warn(*args, **kwargs)\n",
      "\n",
      "  | Name     | Type       | Params\n",
      "----------------------------------------\n",
      "0 | layer1   | Sequential | 728   \n",
      "1 | layer2   | Sequential | 2.5 K \n",
      "2 | dropout1 | Dropout    | 0     \n",
      "3 | fc1      | Linear     | 691 K \n",
      "4 | dropout2 | Dropout    | 0     \n",
      "5 | fc2      | Linear     | 190   \n",
      "----------------------------------------\n",
      "695 K     Trainable params\n",
      "0         Non-trainable params\n",
      "695 K     Total params\n"
     ]
    },
    {
     "data": {
      "application/vnd.jupyter.widget-view+json": {
       "model_id": "98b0a65e87834c08a5f5bc7db27ada60",
       "version_major": 2,
       "version_minor": 0
      },
      "text/plain": [
       "Training: 0it [00:00, ?it/s]"
      ]
     },
     "metadata": {},
     "output_type": "display_data"
    },
    {
     "name": "stderr",
     "output_type": "stream",
     "text": [
      "C:\\Users\\arvin\\miniconda3\\envs\\gpu\\lib\\site-packages\\ipykernel_launcher.py:50: UserWarning: Implicit dimension choice for softmax has been deprecated. Change the call to include dim=X as an argument.\n",
      "C:\\Users\\arvin\\miniconda3\\envs\\gpu\\lib\\site-packages\\pytorch_lightning\\utilities\\distributed.py:50: UserWarning: The {log:dict keyword} was deprecated in 0.9.1 and will be removed in 1.0.0\n",
      "Please use self.log(...) inside the lightningModule instead.\n",
      "\n",
      "# log on a step or aggregate epoch metric to the logger and/or progress bar\n",
      "# (inside LightningModule)\n",
      "self.log('train_loss', loss, on_step=True, on_epoch=True, prog_bar=True)\n",
      "  warnings.warn(*args, **kwargs)\n",
      "C:\\Users\\arvin\\miniconda3\\envs\\gpu\\lib\\site-packages\\pytorch_lightning\\utilities\\distributed.py:50: UserWarning: Detected KeyboardInterrupt, attempting graceful shutdown...\n",
      "  warnings.warn(*args, **kwargs)\n"
     ]
    },
    {
     "data": {
      "text/plain": [
       "1"
      ]
     },
     "execution_count": 3,
     "metadata": {},
     "output_type": "execute_result"
    }
   ],
   "source": [
    "myTrainer = pl.Trainer(gpus=1, max_epochs=10)\n",
    "\n",
    "model = smallAndSmartModel()\n",
    "myTrainer.fit(model)"
   ]
  },
  {
   "cell_type": "code",
   "execution_count": 6,
   "id": "changing-service",
   "metadata": {},
   "outputs": [
    {
     "name": "stderr",
     "output_type": "stream",
     "text": [
      "C:\\Users\\arvin\\miniconda3\\envs\\gpu\\lib\\site-packages\\pytorch_lightning\\utilities\\distributed.py:50: UserWarning: you passed in a test_dataloader but have no test_step. Skipping test loop\n",
      "  warnings.warn(*args, **kwargs)\n"
     ]
    },
    {
     "data": {
      "text/plain": [
       "1"
      ]
     },
     "execution_count": 6,
     "metadata": {},
     "output_type": "execute_result"
    }
   ],
   "source": [
    "myTrainer.test(model, test_dataloaders=model.test_dataloader())"
   ]
  },
  {
   "cell_type": "code",
   "execution_count": null,
   "id": "gentle-provider",
   "metadata": {},
   "outputs": [],
   "source": []
  }
 ],
 "metadata": {
  "kernelspec": {
   "display_name": "Python 3",
   "language": "python",
   "name": "python3"
  },
  "language_info": {
   "codemirror_mode": {
    "name": "ipython",
    "version": 3
   },
   "file_extension": ".py",
   "mimetype": "text/x-python",
   "name": "python",
   "nbconvert_exporter": "python",
   "pygments_lexer": "ipython3",
   "version": "3.6.12"
  }
 },
 "nbformat": 4,
 "nbformat_minor": 5
}
